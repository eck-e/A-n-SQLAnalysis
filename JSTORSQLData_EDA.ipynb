{
 "cells": [
  {
   "cell_type": "code",
   "execution_count": 88,
   "metadata": {},
   "outputs": [
    {
     "name": "stdout",
     "output_type": "stream",
     "text": [
      "Retrieving notices: ...working... done\n",
      "Collecting package metadata (current_repodata.json): done\n",
      "Solving environment: done\n",
      "\n",
      "\n",
      "==> WARNING: A newer version of conda exists. <==\n",
      "  current version: 23.7.4\n",
      "  latest version: 23.11.0\n",
      "\n",
      "Please update conda by running\n",
      "\n",
      "    $ conda update -n base -c defaults conda\n",
      "\n",
      "Or to minimize the number of packages updated during conda update use\n",
      "\n",
      "     conda install conda=23.11.0\n",
      "\n",
      "\n",
      "\n",
      "## Package Plan ##\n",
      "\n",
      "  environment location: /Users/emily/anaconda3\n",
      "\n",
      "  added / updated specs:\n",
      "    - plotly\n",
      "\n",
      "\n",
      "The following packages will be downloaded:\n",
      "\n",
      "    package                    |            build\n",
      "    ---------------------------|-----------------\n",
      "    ca-certificates-2023.08.22 |       hecd8cb5_0         124 KB\n",
      "    certifi-2023.11.17         |  py311hecd8cb5_0         160 KB\n",
      "    openssl-3.0.12             |       hca72f7f_0         4.5 MB\n",
      "    ------------------------------------------------------------\n",
      "                                           Total:         4.8 MB\n",
      "\n",
      "The following packages will be SUPERSEDED by a higher-priority channel:\n",
      "\n",
      "  ca-certificates    conda-forge::ca-certificates-2023.11.~ --> pkgs/main::ca-certificates-2023.08.22-hecd8cb5_0 \n",
      "  certifi            conda-forge/noarch::certifi-2023.11.1~ --> pkgs/main/osx-64::certifi-2023.11.17-py311hecd8cb5_0 \n",
      "  openssl             conda-forge::openssl-3.2.0-hd75f5a5_1 --> pkgs/main::openssl-3.0.12-hca72f7f_0 \n",
      "\n",
      "\n",
      "\n",
      "Downloading and Extracting Packages\n",
      "certifi-2023.11.17   | 160 KB    |                                       |   0% \n",
      "ca-certificates-2023 | 124 KB    |                                       |   0% \u001b[A\n",
      "\n",
      "openssl-3.0.12       | 4.5 MB    |                                       |   0% \u001b[A\u001b[A\n",
      "\n",
      "certifi-2023.11.17   | 160 KB    | ###7                                  |  10% \u001b[A\u001b[A\n",
      "ca-certificates-2023 | 124 KB    | ##################################### | 100% \u001b[A\n",
      "ca-certificates-2023 | 124 KB    | ##################################### | 100% \u001b[A\n",
      "\n",
      "openssl-3.0.12       | 4.5 MB    | #########4                            |  25% \u001b[A\u001b[A\n",
      "\n",
      "certifi-2023.11.17   | 160 KB    | ##################################### | 100% \u001b[A\u001b[A\n",
      "\n",
      "openssl-3.0.12       | 4.5 MB    | ##################################### | 100% \u001b[A\u001b[A\n",
      "\n",
      "                                                                                \u001b[A\u001b[A\n",
      "                                                                                \u001b[A\n",
      "\n",
      "                                                                                \u001b[A\u001b[A\n",
      "Preparing transaction: done\n",
      "Verifying transaction: done\n",
      "Executing transaction: done\n",
      "\n",
      "Note: you may need to restart the kernel to use updated packages.\n"
     ]
    }
   ],
   "source": [
    "%conda install plotly"
   ]
  },
  {
   "cell_type": "code",
   "execution_count": 59,
   "metadata": {},
   "outputs": [],
   "source": [
    "import pandas as pd\n",
    "import numpy as np\n",
    "import seaborn as sns\n",
    "import matplotlib.pyplot as plt"
   ]
  },
  {
   "cell_type": "code",
   "execution_count": 2,
   "metadata": {},
   "outputs": [],
   "source": [
    "df = pd.read_csv('SQLBigramData.csv')"
   ]
  },
  {
   "cell_type": "code",
   "execution_count": 3,
   "metadata": {},
   "outputs": [
    {
     "name": "stdout",
     "output_type": "stream",
     "text": [
      "<class 'pandas.core.frame.DataFrame'>\n",
      "RangeIndex: 824 entries, 0 to 823\n",
      "Data columns (total 14 columns):\n",
      " #   Column              Non-Null Count  Dtype  \n",
      "---  ------              --------------  -----  \n",
      " 0   Unnamed: 0          824 non-null    int64  \n",
      " 1   creator             823 non-null    object \n",
      " 2   datePublished       824 non-null    object \n",
      " 3   docType             824 non-null    object \n",
      " 4   id                  824 non-null    object \n",
      " 5   publicationYear     824 non-null    int64  \n",
      " 6   publisher           824 non-null    object \n",
      " 7   title               824 non-null    object \n",
      " 8   placeOfPublication  6 non-null      object \n",
      " 9   ngramCount          824 non-null    object \n",
      " 10  anSQLCount          824 non-null    float64\n",
      " 11  aSQLCount           824 non-null    float64\n",
      " 12  anSQL               824 non-null    float64\n",
      " 13  aSQL                824 non-null    float64\n",
      "dtypes: float64(4), int64(2), object(8)\n",
      "memory usage: 90.3+ KB\n"
     ]
    }
   ],
   "source": [
    "df.info()"
   ]
  },
  {
   "cell_type": "code",
   "execution_count": 4,
   "metadata": {},
   "outputs": [],
   "source": [
    "df.drop(columns=['placeOfPublication', 'Unnamed: 0'], inplace=True)"
   ]
  },
  {
   "cell_type": "code",
   "execution_count": 5,
   "metadata": {},
   "outputs": [
    {
     "data": {
      "text/html": [
       "<div>\n",
       "<style scoped>\n",
       "    .dataframe tbody tr th:only-of-type {\n",
       "        vertical-align: middle;\n",
       "    }\n",
       "\n",
       "    .dataframe tbody tr th {\n",
       "        vertical-align: top;\n",
       "    }\n",
       "\n",
       "    .dataframe thead th {\n",
       "        text-align: right;\n",
       "    }\n",
       "</style>\n",
       "<table border=\"1\" class=\"dataframe\">\n",
       "  <thead>\n",
       "    <tr style=\"text-align: right;\">\n",
       "      <th></th>\n",
       "      <th>creator</th>\n",
       "      <th>datePublished</th>\n",
       "      <th>docType</th>\n",
       "      <th>id</th>\n",
       "      <th>publicationYear</th>\n",
       "      <th>publisher</th>\n",
       "      <th>title</th>\n",
       "      <th>ngramCount</th>\n",
       "      <th>anSQLCount</th>\n",
       "      <th>aSQLCount</th>\n",
       "      <th>anSQL</th>\n",
       "      <th>aSQL</th>\n",
       "    </tr>\n",
       "  </thead>\n",
       "  <tbody>\n",
       "    <tr>\n",
       "      <th>657</th>\n",
       "      <td>['P Trevisan', 'N Claassen']</td>\n",
       "      <td>2011-06-03</td>\n",
       "      <td>article</td>\n",
       "      <td>ark://27927/phzms6nv7c9</td>\n",
       "      <td>2011</td>\n",
       "      <td>Academy of Science of South Africa</td>\n",
       "      <td>DIESEL FUEL ADDITIVES: WORTH CONSIDERING? LOCA...</td>\n",
       "      <td>{'analyser by': 1, 'sample and': 1, 'all three...</td>\n",
       "      <td>0.0</td>\n",
       "      <td>1.0</td>\n",
       "      <td>0.0</td>\n",
       "      <td>1.0</td>\n",
       "    </tr>\n",
       "    <tr>\n",
       "      <th>402</th>\n",
       "      <td>['P.J.H. de Graaf', 'S.D.N. Wessels']</td>\n",
       "      <td>2016-05-01</td>\n",
       "      <td>article</td>\n",
       "      <td>ark://27927/phx82fqnrds</td>\n",
       "      <td>2016</td>\n",
       "      <td>Academy of Science of South Africa</td>\n",
       "      <td>A framework for managing geotechnical risk acr...</td>\n",
       "      <td>{'can all': 1, '\\x02 372': 1, 'approach whereb...</td>\n",
       "      <td>0.0</td>\n",
       "      <td>1.0</td>\n",
       "      <td>0.0</td>\n",
       "      <td>1.0</td>\n",
       "    </tr>\n",
       "    <tr>\n",
       "      <th>786</th>\n",
       "      <td>['ANDRÁS NEMESLAKI', 'KÁROLY POCSAROVSZKY']</td>\n",
       "      <td>2012-03-01</td>\n",
       "      <td>article</td>\n",
       "      <td>http://www.jstor.org/stable/41472185</td>\n",
       "      <td>2012</td>\n",
       "      <td>Akadémiai Kiadó</td>\n",
       "      <td>SUPPORTING E-BUSINESS RESEARCH WITH WEB CRAWLE...</td>\n",
       "      <td>{'Bids and': 1, 'be an': 1, '107-1 17.': 1, '-...</td>\n",
       "      <td>2.0</td>\n",
       "      <td>0.0</td>\n",
       "      <td>1.0</td>\n",
       "      <td>0.0</td>\n",
       "    </tr>\n",
       "    <tr>\n",
       "      <th>735</th>\n",
       "      <td>['Darrell G. Stewart']</td>\n",
       "      <td>2006-04-01</td>\n",
       "      <td>article</td>\n",
       "      <td>http://www.jstor.org/stable/23672988</td>\n",
       "      <td>2006</td>\n",
       "      <td>American Bar Association</td>\n",
       "      <td>OLD DOCS, NEW TRICKS: KNOWLEDGE DATABASES MADE...</td>\n",
       "      <td>{'law in': 1, 'particularly helpful': 1, 'use ...</td>\n",
       "      <td>2.0</td>\n",
       "      <td>0.0</td>\n",
       "      <td>1.0</td>\n",
       "      <td>0.0</td>\n",
       "    </tr>\n",
       "    <tr>\n",
       "      <th>736</th>\n",
       "      <td>['Hal R. Varian']</td>\n",
       "      <td>2014-04-01</td>\n",
       "      <td>article</td>\n",
       "      <td>http://www.jstor.org/stable/23723482</td>\n",
       "      <td>2014</td>\n",
       "      <td>American Economic Association</td>\n",
       "      <td>Big Data: New Tricks for Econometrics</td>\n",
       "      <td>{'expectancy 0.946': 2, 'or several': 1, 'and ...</td>\n",
       "      <td>3.0</td>\n",
       "      <td>0.0</td>\n",
       "      <td>1.0</td>\n",
       "      <td>0.0</td>\n",
       "    </tr>\n",
       "    <tr>\n",
       "      <th>...</th>\n",
       "      <td>...</td>\n",
       "      <td>...</td>\n",
       "      <td>...</td>\n",
       "      <td>...</td>\n",
       "      <td>...</td>\n",
       "      <td>...</td>\n",
       "      <td>...</td>\n",
       "      <td>...</td>\n",
       "      <td>...</td>\n",
       "      <td>...</td>\n",
       "      <td>...</td>\n",
       "      <td>...</td>\n",
       "    </tr>\n",
       "    <tr>\n",
       "      <th>228</th>\n",
       "      <td>['Nigel Wilson', 'Wei Wang', 'John Attanucci']</td>\n",
       "      <td>2011-12-01</td>\n",
       "      <td>article</td>\n",
       "      <td>ark://27927/pgk3h99bf8c</td>\n",
       "      <td>2011</td>\n",
       "      <td>University of South Florida</td>\n",
       "      <td>Bus Passenger Origin-Destination Estimation an...</td>\n",
       "      <td>{'P. R.': 1, 'and trip,': 1, 'destination. Exp...</td>\n",
       "      <td>1.0</td>\n",
       "      <td>0.0</td>\n",
       "      <td>1.0</td>\n",
       "      <td>0.0</td>\n",
       "    </tr>\n",
       "    <tr>\n",
       "      <th>8</th>\n",
       "      <td>['Desney Tan, Emma Berry, Mary Czerwinski, Gor...</td>\n",
       "      <td>2007-01-01</td>\n",
       "      <td>chapter</td>\n",
       "      <td>ark://27927/pbd81b508x</td>\n",
       "      <td>2007</td>\n",
       "      <td>University of Washington Press</td>\n",
       "      <td>6. Save Everything: Supporting Human Memory wi...</td>\n",
       "      <td>{'Challenge in': 1, 'months. The': 1, 'minutes...</td>\n",
       "      <td>0.0</td>\n",
       "      <td>1.0</td>\n",
       "      <td>0.0</td>\n",
       "      <td>1.0</td>\n",
       "    </tr>\n",
       "    <tr>\n",
       "      <th>796</th>\n",
       "      <td>['ELTON BARKER', 'LEIF ISAKSEN', 'NICK RABINOW...</td>\n",
       "      <td>2013-01-01</td>\n",
       "      <td>article</td>\n",
       "      <td>http://www.jstor.org/stable/44216322</td>\n",
       "      <td>2013</td>\n",
       "      <td>Wiley</td>\n",
       "      <td>ON USING DIGITAL RESOURCES FOR THE STUDY OF AN...</td>\n",
       "      <td>{'and outcomes': 1, 'also with': 1, 'project w...</td>\n",
       "      <td>0.0</td>\n",
       "      <td>1.0</td>\n",
       "      <td>0.0</td>\n",
       "      <td>1.0</td>\n",
       "    </tr>\n",
       "    <tr>\n",
       "      <th>725</th>\n",
       "      <td>['Bo Sundgren']</td>\n",
       "      <td>1996-04-01</td>\n",
       "      <td>article</td>\n",
       "      <td>http://www.jstor.org/stable/1403422</td>\n",
       "      <td>1996</td>\n",
       "      <td>Wiley</td>\n",
       "      <td>Making Statistical Data More Available</td>\n",
       "      <td>{'meta-infor- mation.': 1, 'when they': 2, 'st...</td>\n",
       "      <td>1.0</td>\n",
       "      <td>0.0</td>\n",
       "      <td>1.0</td>\n",
       "      <td>0.0</td>\n",
       "    </tr>\n",
       "    <tr>\n",
       "      <th>781</th>\n",
       "      <td>['JAE JENNIFER ROSSMAN']</td>\n",
       "      <td>2007-04-01</td>\n",
       "      <td>article</td>\n",
       "      <td>http://www.jstor.org/stable/40859355</td>\n",
       "      <td>2007</td>\n",
       "      <td>Yale University</td>\n",
       "      <td>The Rainbow Connection: An Image Database for ...</td>\n",
       "      <td>{'Chips The': 1, 'Major Statements': 1, '120 T...</td>\n",
       "      <td>0.0</td>\n",
       "      <td>1.0</td>\n",
       "      <td>0.0</td>\n",
       "      <td>1.0</td>\n",
       "    </tr>\n",
       "  </tbody>\n",
       "</table>\n",
       "<p>824 rows × 12 columns</p>\n",
       "</div>"
      ],
      "text/plain": [
       "                                               creator datePublished  docType  \\\n",
       "657                       ['P Trevisan', 'N Claassen']    2011-06-03  article   \n",
       "402              ['P.J.H. de Graaf', 'S.D.N. Wessels']    2016-05-01  article   \n",
       "786        ['ANDRÁS NEMESLAKI', 'KÁROLY POCSAROVSZKY']    2012-03-01  article   \n",
       "735                             ['Darrell G. Stewart']    2006-04-01  article   \n",
       "736                                  ['Hal R. Varian']    2014-04-01  article   \n",
       "..                                                 ...           ...      ...   \n",
       "228     ['Nigel Wilson', 'Wei Wang', 'John Attanucci']    2011-12-01  article   \n",
       "8    ['Desney Tan, Emma Berry, Mary Czerwinski, Gor...    2007-01-01  chapter   \n",
       "796  ['ELTON BARKER', 'LEIF ISAKSEN', 'NICK RABINOW...    2013-01-01  article   \n",
       "725                                    ['Bo Sundgren']    1996-04-01  article   \n",
       "781                           ['JAE JENNIFER ROSSMAN']    2007-04-01  article   \n",
       "\n",
       "                                       id  publicationYear  \\\n",
       "657               ark://27927/phzms6nv7c9             2011   \n",
       "402               ark://27927/phx82fqnrds             2016   \n",
       "786  http://www.jstor.org/stable/41472185             2012   \n",
       "735  http://www.jstor.org/stable/23672988             2006   \n",
       "736  http://www.jstor.org/stable/23723482             2014   \n",
       "..                                    ...              ...   \n",
       "228               ark://27927/pgk3h99bf8c             2011   \n",
       "8                  ark://27927/pbd81b508x             2007   \n",
       "796  http://www.jstor.org/stable/44216322             2013   \n",
       "725   http://www.jstor.org/stable/1403422             1996   \n",
       "781  http://www.jstor.org/stable/40859355             2007   \n",
       "\n",
       "                              publisher  \\\n",
       "657  Academy of Science of South Africa   \n",
       "402  Academy of Science of South Africa   \n",
       "786                     Akadémiai Kiadó   \n",
       "735            American Bar Association   \n",
       "736       American Economic Association   \n",
       "..                                  ...   \n",
       "228         University of South Florida   \n",
       "8        University of Washington Press   \n",
       "796                               Wiley   \n",
       "725                               Wiley   \n",
       "781                     Yale University   \n",
       "\n",
       "                                                 title  \\\n",
       "657  DIESEL FUEL ADDITIVES: WORTH CONSIDERING? LOCA...   \n",
       "402  A framework for managing geotechnical risk acr...   \n",
       "786  SUPPORTING E-BUSINESS RESEARCH WITH WEB CRAWLE...   \n",
       "735  OLD DOCS, NEW TRICKS: KNOWLEDGE DATABASES MADE...   \n",
       "736              Big Data: New Tricks for Econometrics   \n",
       "..                                                 ...   \n",
       "228  Bus Passenger Origin-Destination Estimation an...   \n",
       "8    6. Save Everything: Supporting Human Memory wi...   \n",
       "796  ON USING DIGITAL RESOURCES FOR THE STUDY OF AN...   \n",
       "725             Making Statistical Data More Available   \n",
       "781  The Rainbow Connection: An Image Database for ...   \n",
       "\n",
       "                                            ngramCount  anSQLCount  aSQLCount  \\\n",
       "657  {'analyser by': 1, 'sample and': 1, 'all three...         0.0        1.0   \n",
       "402  {'can all': 1, '\\x02 372': 1, 'approach whereb...         0.0        1.0   \n",
       "786  {'Bids and': 1, 'be an': 1, '107-1 17.': 1, '-...         2.0        0.0   \n",
       "735  {'law in': 1, 'particularly helpful': 1, 'use ...         2.0        0.0   \n",
       "736  {'expectancy 0.946': 2, 'or several': 1, 'and ...         3.0        0.0   \n",
       "..                                                 ...         ...        ...   \n",
       "228  {'P. R.': 1, 'and trip,': 1, 'destination. Exp...         1.0        0.0   \n",
       "8    {'Challenge in': 1, 'months. The': 1, 'minutes...         0.0        1.0   \n",
       "796  {'and outcomes': 1, 'also with': 1, 'project w...         0.0        1.0   \n",
       "725  {'meta-infor- mation.': 1, 'when they': 2, 'st...         1.0        0.0   \n",
       "781  {'Chips The': 1, 'Major Statements': 1, '120 T...         0.0        1.0   \n",
       "\n",
       "     anSQL  aSQL  \n",
       "657    0.0   1.0  \n",
       "402    0.0   1.0  \n",
       "786    1.0   0.0  \n",
       "735    1.0   0.0  \n",
       "736    1.0   0.0  \n",
       "..     ...   ...  \n",
       "228    1.0   0.0  \n",
       "8      0.0   1.0  \n",
       "796    0.0   1.0  \n",
       "725    1.0   0.0  \n",
       "781    0.0   1.0  \n",
       "\n",
       "[824 rows x 12 columns]"
      ]
     },
     "execution_count": 5,
     "metadata": {},
     "output_type": "execute_result"
    }
   ],
   "source": [
    "df.sort_values(by=['publisher'])"
   ]
  },
  {
   "cell_type": "code",
   "execution_count": 6,
   "metadata": {},
   "outputs": [
    {
     "data": {
      "text/html": [
       "<div>\n",
       "<style scoped>\n",
       "    .dataframe tbody tr th:only-of-type {\n",
       "        vertical-align: middle;\n",
       "    }\n",
       "\n",
       "    .dataframe tbody tr th {\n",
       "        vertical-align: top;\n",
       "    }\n",
       "\n",
       "    .dataframe thead th {\n",
       "        text-align: right;\n",
       "    }\n",
       "</style>\n",
       "<table border=\"1\" class=\"dataframe\">\n",
       "  <thead>\n",
       "    <tr style=\"text-align: right;\">\n",
       "      <th></th>\n",
       "      <th>publisher</th>\n",
       "      <th>anSQL</th>\n",
       "      <th>aSQL</th>\n",
       "      <th>id</th>\n",
       "    </tr>\n",
       "  </thead>\n",
       "  <tbody>\n",
       "    <tr>\n",
       "      <th>0</th>\n",
       "      <td>Cambridge University Press</td>\n",
       "      <td>1.0</td>\n",
       "      <td>0.0</td>\n",
       "      <td>ark://27927/pbd1pgqfbnb</td>\n",
       "    </tr>\n",
       "    <tr>\n",
       "      <th>1</th>\n",
       "      <td>Cambridge University Press</td>\n",
       "      <td>1.0</td>\n",
       "      <td>0.0</td>\n",
       "      <td>ark://27927/pbd1pgrrq8r</td>\n",
       "    </tr>\n",
       "    <tr>\n",
       "      <th>2</th>\n",
       "      <td>Cambridge University Press</td>\n",
       "      <td>0.0</td>\n",
       "      <td>1.0</td>\n",
       "      <td>ark://27927/pbd6bn866k</td>\n",
       "    </tr>\n",
       "    <tr>\n",
       "      <th>3</th>\n",
       "      <td>Cambridge University Press</td>\n",
       "      <td>1.0</td>\n",
       "      <td>0.0</td>\n",
       "      <td>ark://27927/pbd6bvp8dh</td>\n",
       "    </tr>\n",
       "    <tr>\n",
       "      <th>4</th>\n",
       "      <td>Cambridge University Press</td>\n",
       "      <td>0.0</td>\n",
       "      <td>1.0</td>\n",
       "      <td>ark://27927/pbd6f4pcdd</td>\n",
       "    </tr>\n",
       "  </tbody>\n",
       "</table>\n",
       "</div>"
      ],
      "text/plain": [
       "                    publisher  anSQL  aSQL                       id\n",
       "0  Cambridge University Press    1.0   0.0  ark://27927/pbd1pgqfbnb\n",
       "1  Cambridge University Press    1.0   0.0  ark://27927/pbd1pgrrq8r\n",
       "2  Cambridge University Press    0.0   1.0   ark://27927/pbd6bn866k\n",
       "3  Cambridge University Press    1.0   0.0   ark://27927/pbd6bvp8dh\n",
       "4  Cambridge University Press    0.0   1.0   ark://27927/pbd6f4pcdd"
      ]
     },
     "execution_count": 6,
     "metadata": {},
     "output_type": "execute_result"
    }
   ],
   "source": [
    "df2 = df[['publisher', 'anSQL', 'aSQL', 'id']]\n",
    "df2.head()"
   ]
  },
  {
   "cell_type": "code",
   "execution_count": 7,
   "metadata": {},
   "outputs": [],
   "source": [
    "df2 = df2.groupby('publisher').agg({'anSQL': 'sum', 'aSQL': 'sum', 'id':lambda x: list(x)})"
   ]
  },
  {
   "cell_type": "code",
   "execution_count": 8,
   "metadata": {},
   "outputs": [],
   "source": [
    "df2['len'] = df2['id'].apply(lambda x: len(x))\n",
    "df2['anpercent'] = (df2['anSQL']/df2['len']) * 100\n",
    "df2['apercent'] = (df2['aSQL']/df2['len']) * 100\n"
   ]
  },
  {
   "cell_type": "code",
   "execution_count": 9,
   "metadata": {},
   "outputs": [
    {
     "name": "stdout",
     "output_type": "stream",
     "text": [
      "27\n",
      "73\n",
      "29\n"
     ]
    }
   ],
   "source": [
    "print(len(df2.loc[(df2['anpercent'] != 100) & (df2['apercent'] != 100)]))\n",
    "print(len(df2))\n",
    "print(len(df2.loc[(df2['anSQL']>0) & (df2['aSQL']>0)]))"
   ]
  },
  {
   "cell_type": "markdown",
   "metadata": {},
   "source": [
    "- not tons of evidence of a publisher style guide for this \n",
    "- some publishers might but definitely not all\n",
    "- --> likely no need to only have one title per publisher"
   ]
  },
  {
   "cell_type": "code",
   "execution_count": 10,
   "metadata": {},
   "outputs": [
    {
     "data": {
      "text/html": [
       "<div>\n",
       "<style scoped>\n",
       "    .dataframe tbody tr th:only-of-type {\n",
       "        vertical-align: middle;\n",
       "    }\n",
       "\n",
       "    .dataframe tbody tr th {\n",
       "        vertical-align: top;\n",
       "    }\n",
       "\n",
       "    .dataframe thead th {\n",
       "        text-align: right;\n",
       "    }\n",
       "</style>\n",
       "<table border=\"1\" class=\"dataframe\">\n",
       "  <thead>\n",
       "    <tr style=\"text-align: right;\">\n",
       "      <th></th>\n",
       "      <th>anSQL</th>\n",
       "      <th>aSQL</th>\n",
       "      <th>id</th>\n",
       "      <th>len</th>\n",
       "      <th>SQL</th>\n",
       "      <th>anpercent</th>\n",
       "      <th>apercent</th>\n",
       "    </tr>\n",
       "    <tr>\n",
       "      <th>docType</th>\n",
       "      <th></th>\n",
       "      <th></th>\n",
       "      <th></th>\n",
       "      <th></th>\n",
       "      <th></th>\n",
       "      <th></th>\n",
       "      <th></th>\n",
       "    </tr>\n",
       "  </thead>\n",
       "  <tbody>\n",
       "    <tr>\n",
       "      <th>article</th>\n",
       "      <td>512.0</td>\n",
       "      <td>300.0</td>\n",
       "      <td>[ark://27927/pc0156h05v, ark://27927/pc015889h...</td>\n",
       "      <td>783</td>\n",
       "      <td>812.0</td>\n",
       "      <td>65.389527</td>\n",
       "      <td>38.314176</td>\n",
       "    </tr>\n",
       "    <tr>\n",
       "      <th>book</th>\n",
       "      <td>10.0</td>\n",
       "      <td>5.0</td>\n",
       "      <td>[ark://27927/pbd9dh0bqt, ark://27927/pbd9dh363...</td>\n",
       "      <td>13</td>\n",
       "      <td>15.0</td>\n",
       "      <td>76.923077</td>\n",
       "      <td>38.461538</td>\n",
       "    </tr>\n",
       "    <tr>\n",
       "      <th>chapter</th>\n",
       "      <td>20.0</td>\n",
       "      <td>9.0</td>\n",
       "      <td>[ark://27927/pbd1pgqfbnb, ark://27927/pbd1pgrr...</td>\n",
       "      <td>26</td>\n",
       "      <td>29.0</td>\n",
       "      <td>76.923077</td>\n",
       "      <td>34.615385</td>\n",
       "    </tr>\n",
       "    <tr>\n",
       "      <th>research_report</th>\n",
       "      <td>2.0</td>\n",
       "      <td>0.0</td>\n",
       "      <td>[http://www.jstor.org/stable/resrep22867, http...</td>\n",
       "      <td>2</td>\n",
       "      <td>2.0</td>\n",
       "      <td>100.000000</td>\n",
       "      <td>0.000000</td>\n",
       "    </tr>\n",
       "  </tbody>\n",
       "</table>\n",
       "</div>"
      ],
      "text/plain": [
       "                 anSQL   aSQL  \\\n",
       "docType                         \n",
       "article          512.0  300.0   \n",
       "book              10.0    5.0   \n",
       "chapter           20.0    9.0   \n",
       "research_report    2.0    0.0   \n",
       "\n",
       "                                                                id  len  \\\n",
       "docType                                                                   \n",
       "article          [ark://27927/pc0156h05v, ark://27927/pc015889h...  783   \n",
       "book             [ark://27927/pbd9dh0bqt, ark://27927/pbd9dh363...   13   \n",
       "chapter          [ark://27927/pbd1pgqfbnb, ark://27927/pbd1pgrr...   26   \n",
       "research_report  [http://www.jstor.org/stable/resrep22867, http...    2   \n",
       "\n",
       "                   SQL   anpercent   apercent  \n",
       "docType                                        \n",
       "article          812.0   65.389527  38.314176  \n",
       "book              15.0   76.923077  38.461538  \n",
       "chapter           29.0   76.923077  34.615385  \n",
       "research_report    2.0  100.000000   0.000000  "
      ]
     },
     "execution_count": 10,
     "metadata": {},
     "output_type": "execute_result"
    }
   ],
   "source": [
    "df3 = df[['docType', 'anSQL', 'aSQL', 'id']]\n",
    "df3 = df3.groupby('docType').agg({'anSQL': 'sum', 'aSQL': 'sum', 'id':lambda x: list(x)})\n",
    "df3['len'] = df3['id'].apply(lambda x: len(x))\n",
    "df3['SQL'] = df3['anSQL'] + df3 ['aSQL']\n",
    "df3['anpercent'] = (df3['anSQL']/df3['len']) * 100\n",
    "df3['apercent'] = (df3['aSQL']/df3['len']) * 100\n",
    "df3.head()"
   ]
  },
  {
   "cell_type": "markdown",
   "metadata": {},
   "source": [
    "no evidence of distribution differing by docType"
   ]
  },
  {
   "cell_type": "code",
   "execution_count": 11,
   "metadata": {},
   "outputs": [
    {
     "data": {
      "text/plain": [
       "Index(['creator', 'datePublished', 'docType', 'id', 'publicationYear',\n",
       "       'publisher', 'title', 'ngramCount', 'anSQLCount', 'aSQLCount', 'anSQL',\n",
       "       'aSQL'],\n",
       "      dtype='object')"
      ]
     },
     "execution_count": 11,
     "metadata": {},
     "output_type": "execute_result"
    }
   ],
   "source": [
    "df.columns"
   ]
  },
  {
   "cell_type": "code",
   "execution_count": 52,
   "metadata": {},
   "outputs": [
    {
     "data": {
      "text/html": [
       "<div>\n",
       "<style scoped>\n",
       "    .dataframe tbody tr th:only-of-type {\n",
       "        vertical-align: middle;\n",
       "    }\n",
       "\n",
       "    .dataframe tbody tr th {\n",
       "        vertical-align: top;\n",
       "    }\n",
       "\n",
       "    .dataframe thead th {\n",
       "        text-align: right;\n",
       "    }\n",
       "</style>\n",
       "<table border=\"1\" class=\"dataframe\">\n",
       "  <thead>\n",
       "    <tr style=\"text-align: right;\">\n",
       "      <th></th>\n",
       "      <th>datePublished</th>\n",
       "      <th>id</th>\n",
       "      <th>publicationYear</th>\n",
       "      <th>anSQL</th>\n",
       "      <th>aSQL</th>\n",
       "    </tr>\n",
       "  </thead>\n",
       "  <tbody>\n",
       "    <tr>\n",
       "      <th>0</th>\n",
       "      <td>2009-01-01</td>\n",
       "      <td>ark://27927/pbd1pgqfbnb</td>\n",
       "      <td>2009</td>\n",
       "      <td>1.0</td>\n",
       "      <td>0.0</td>\n",
       "    </tr>\n",
       "    <tr>\n",
       "      <th>1</th>\n",
       "      <td>2015-01-01</td>\n",
       "      <td>ark://27927/pbd1pgrrq8r</td>\n",
       "      <td>2015</td>\n",
       "      <td>1.0</td>\n",
       "      <td>0.0</td>\n",
       "    </tr>\n",
       "    <tr>\n",
       "      <th>2</th>\n",
       "      <td>2009-01-01</td>\n",
       "      <td>ark://27927/pbd6bn866k</td>\n",
       "      <td>2009</td>\n",
       "      <td>0.0</td>\n",
       "      <td>1.0</td>\n",
       "    </tr>\n",
       "    <tr>\n",
       "      <th>3</th>\n",
       "      <td>2011-01-01</td>\n",
       "      <td>ark://27927/pbd6bvp8dh</td>\n",
       "      <td>2011</td>\n",
       "      <td>1.0</td>\n",
       "      <td>0.0</td>\n",
       "    </tr>\n",
       "    <tr>\n",
       "      <th>4</th>\n",
       "      <td>2009-01-01</td>\n",
       "      <td>ark://27927/pbd6f4pcdd</td>\n",
       "      <td>2009</td>\n",
       "      <td>0.0</td>\n",
       "      <td>1.0</td>\n",
       "    </tr>\n",
       "  </tbody>\n",
       "</table>\n",
       "</div>"
      ],
      "text/plain": [
       "  datePublished                       id  publicationYear  anSQL  aSQL\n",
       "0    2009-01-01  ark://27927/pbd1pgqfbnb             2009    1.0   0.0\n",
       "1    2015-01-01  ark://27927/pbd1pgrrq8r             2015    1.0   0.0\n",
       "2    2009-01-01   ark://27927/pbd6bn866k             2009    0.0   1.0\n",
       "3    2011-01-01   ark://27927/pbd6bvp8dh             2011    1.0   0.0\n",
       "4    2009-01-01   ark://27927/pbd6f4pcdd             2009    0.0   1.0"
      ]
     },
     "execution_count": 52,
     "metadata": {},
     "output_type": "execute_result"
    }
   ],
   "source": [
    "new_df = df[['datePublished', 'id', 'publicationYear','anSQL', 'aSQL']]\n",
    "new_df.head()"
   ]
  },
  {
   "cell_type": "code",
   "execution_count": 53,
   "metadata": {},
   "outputs": [
    {
     "data": {
      "text/plain": [
       "datePublished      False\n",
       "id                 False\n",
       "publicationYear    False\n",
       "anSQL              False\n",
       "aSQL               False\n",
       "dtype: bool"
      ]
     },
     "execution_count": 53,
     "metadata": {},
     "output_type": "execute_result"
    }
   ],
   "source": [
    "new_df.isna().any()"
   ]
  },
  {
   "cell_type": "code",
   "execution_count": 17,
   "metadata": {},
   "outputs": [
    {
     "data": {
      "text/plain": [
       "datePublished       object\n",
       "id                  object\n",
       "publicationYear      int64\n",
       "anSQL              float64\n",
       "aSQL               float64\n",
       "dtype: object"
      ]
     },
     "execution_count": 17,
     "metadata": {},
     "output_type": "execute_result"
    }
   ],
   "source": [
    "new_df.dtypes"
   ]
  },
  {
   "cell_type": "code",
   "execution_count": 54,
   "metadata": {},
   "outputs": [
    {
     "name": "stderr",
     "output_type": "stream",
     "text": [
      "/var/folders/qr/t32q1dbd6mgc4vqxkmqyn2dc0000gn/T/ipykernel_15296/3650478919.py:1: SettingWithCopyWarning: \n",
      "A value is trying to be set on a copy of a slice from a DataFrame.\n",
      "Try using .loc[row_indexer,col_indexer] = value instead\n",
      "\n",
      "See the caveats in the documentation: https://pandas.pydata.org/pandas-docs/stable/user_guide/indexing.html#returning-a-view-versus-a-copy\n",
      "  new_df['datePublished'] = pd.to_datetime(new_df['datePublished'])\n",
      "/var/folders/qr/t32q1dbd6mgc4vqxkmqyn2dc0000gn/T/ipykernel_15296/3650478919.py:2: SettingWithCopyWarning: \n",
      "A value is trying to be set on a copy of a slice from a DataFrame.\n",
      "Try using .loc[row_indexer,col_indexer] = value instead\n",
      "\n",
      "See the caveats in the documentation: https://pandas.pydata.org/pandas-docs/stable/user_guide/indexing.html#returning-a-view-versus-a-copy\n",
      "  new_df['anSQL'] = new_df['anSQL'].astype('int64')\n",
      "/var/folders/qr/t32q1dbd6mgc4vqxkmqyn2dc0000gn/T/ipykernel_15296/3650478919.py:3: SettingWithCopyWarning: \n",
      "A value is trying to be set on a copy of a slice from a DataFrame.\n",
      "Try using .loc[row_indexer,col_indexer] = value instead\n",
      "\n",
      "See the caveats in the documentation: https://pandas.pydata.org/pandas-docs/stable/user_guide/indexing.html#returning-a-view-versus-a-copy\n",
      "  new_df['aSQL'] = new_df['aSQL'].astype('int64')\n"
     ]
    }
   ],
   "source": [
    "new_df['datePublished'] = pd.to_datetime(new_df['datePublished'])\n",
    "new_df['anSQL'] = new_df['anSQL'].astype('int64')\n",
    "new_df['aSQL'] = new_df['aSQL'].astype('int64')\n",
    "\n"
   ]
  },
  {
   "cell_type": "code",
   "execution_count": 55,
   "metadata": {},
   "outputs": [
    {
     "data": {
      "text/plain": [
       "datePublished      datetime64[ns]\n",
       "id                         object\n",
       "publicationYear             int64\n",
       "anSQL                       int64\n",
       "aSQL                        int64\n",
       "dtype: object"
      ]
     },
     "execution_count": 55,
     "metadata": {},
     "output_type": "execute_result"
    }
   ],
   "source": [
    "new_df.dtypes"
   ]
  },
  {
   "cell_type": "code",
   "execution_count": 56,
   "metadata": {},
   "outputs": [
    {
     "data": {
      "text/html": [
       "<div>\n",
       "<style scoped>\n",
       "    .dataframe tbody tr th:only-of-type {\n",
       "        vertical-align: middle;\n",
       "    }\n",
       "\n",
       "    .dataframe tbody tr th {\n",
       "        vertical-align: top;\n",
       "    }\n",
       "\n",
       "    .dataframe thead th {\n",
       "        text-align: right;\n",
       "    }\n",
       "</style>\n",
       "<table border=\"1\" class=\"dataframe\">\n",
       "  <thead>\n",
       "    <tr style=\"text-align: right;\">\n",
       "      <th></th>\n",
       "      <th>datePublished</th>\n",
       "      <th>id</th>\n",
       "      <th>publicationYear</th>\n",
       "      <th>anSQL</th>\n",
       "      <th>aSQL</th>\n",
       "    </tr>\n",
       "  </thead>\n",
       "  <tbody>\n",
       "    <tr>\n",
       "      <th>0</th>\n",
       "      <td>2009-01-01</td>\n",
       "      <td>ark://27927/pbd1pgqfbnb</td>\n",
       "      <td>2009</td>\n",
       "      <td>1</td>\n",
       "      <td>0</td>\n",
       "    </tr>\n",
       "    <tr>\n",
       "      <th>1</th>\n",
       "      <td>2015-01-01</td>\n",
       "      <td>ark://27927/pbd1pgrrq8r</td>\n",
       "      <td>2015</td>\n",
       "      <td>1</td>\n",
       "      <td>0</td>\n",
       "    </tr>\n",
       "    <tr>\n",
       "      <th>2</th>\n",
       "      <td>2009-01-01</td>\n",
       "      <td>ark://27927/pbd6bn866k</td>\n",
       "      <td>2009</td>\n",
       "      <td>0</td>\n",
       "      <td>1</td>\n",
       "    </tr>\n",
       "    <tr>\n",
       "      <th>3</th>\n",
       "      <td>2011-01-01</td>\n",
       "      <td>ark://27927/pbd6bvp8dh</td>\n",
       "      <td>2011</td>\n",
       "      <td>1</td>\n",
       "      <td>0</td>\n",
       "    </tr>\n",
       "    <tr>\n",
       "      <th>4</th>\n",
       "      <td>2009-01-01</td>\n",
       "      <td>ark://27927/pbd6f4pcdd</td>\n",
       "      <td>2009</td>\n",
       "      <td>0</td>\n",
       "      <td>1</td>\n",
       "    </tr>\n",
       "    <tr>\n",
       "      <th>...</th>\n",
       "      <td>...</td>\n",
       "      <td>...</td>\n",
       "      <td>...</td>\n",
       "      <td>...</td>\n",
       "      <td>...</td>\n",
       "    </tr>\n",
       "    <tr>\n",
       "      <th>812</th>\n",
       "      <td>2017-01-01</td>\n",
       "      <td>http://www.jstor.org/stable/j.ctv3t5qjk.26</td>\n",
       "      <td>2017</td>\n",
       "      <td>1</td>\n",
       "      <td>0</td>\n",
       "    </tr>\n",
       "    <tr>\n",
       "      <th>813</th>\n",
       "      <td>2017-01-01</td>\n",
       "      <td>http://www.jstor.org/stable/j.ctvhhhdbh.82</td>\n",
       "      <td>2017</td>\n",
       "      <td>1</td>\n",
       "      <td>0</td>\n",
       "    </tr>\n",
       "    <tr>\n",
       "      <th>816</th>\n",
       "      <td>2015-01-01</td>\n",
       "      <td>http://www.jstor.org/stable/jeductechsoci.18.1...</td>\n",
       "      <td>2015</td>\n",
       "      <td>1</td>\n",
       "      <td>0</td>\n",
       "    </tr>\n",
       "    <tr>\n",
       "      <th>820</th>\n",
       "      <td>2023-01-01</td>\n",
       "      <td>http://www.jstor.org/stable/jj.2430371</td>\n",
       "      <td>2023</td>\n",
       "      <td>1</td>\n",
       "      <td>1</td>\n",
       "    </tr>\n",
       "    <tr>\n",
       "      <th>821</th>\n",
       "      <td>2023-01-01</td>\n",
       "      <td>http://www.jstor.org/stable/jj.2430371.9</td>\n",
       "      <td>2023</td>\n",
       "      <td>1</td>\n",
       "      <td>1</td>\n",
       "    </tr>\n",
       "  </tbody>\n",
       "</table>\n",
       "<p>198 rows × 5 columns</p>\n",
       "</div>"
      ],
      "text/plain": [
       "    datePublished                                                 id  \\\n",
       "0      2009-01-01                            ark://27927/pbd1pgqfbnb   \n",
       "1      2015-01-01                            ark://27927/pbd1pgrrq8r   \n",
       "2      2009-01-01                             ark://27927/pbd6bn866k   \n",
       "3      2011-01-01                             ark://27927/pbd6bvp8dh   \n",
       "4      2009-01-01                             ark://27927/pbd6f4pcdd   \n",
       "..            ...                                                ...   \n",
       "812    2017-01-01         http://www.jstor.org/stable/j.ctv3t5qjk.26   \n",
       "813    2017-01-01         http://www.jstor.org/stable/j.ctvhhhdbh.82   \n",
       "816    2015-01-01  http://www.jstor.org/stable/jeductechsoci.18.1...   \n",
       "820    2023-01-01             http://www.jstor.org/stable/jj.2430371   \n",
       "821    2023-01-01           http://www.jstor.org/stable/jj.2430371.9   \n",
       "\n",
       "     publicationYear  anSQL  aSQL  \n",
       "0               2009      1     0  \n",
       "1               2015      1     0  \n",
       "2               2009      0     1  \n",
       "3               2011      1     0  \n",
       "4               2009      0     1  \n",
       "..               ...    ...   ...  \n",
       "812             2017      1     0  \n",
       "813             2017      1     0  \n",
       "816             2015      1     0  \n",
       "820             2023      1     1  \n",
       "821             2023      1     1  \n",
       "\n",
       "[198 rows x 5 columns]"
      ]
     },
     "execution_count": 56,
     "metadata": {},
     "output_type": "execute_result"
    }
   ],
   "source": [
    "new_df.loc[(new_df['datePublished'].dt.month == 1) & (new_df['datePublished'].dt.day == 1)]"
   ]
  },
  {
   "cell_type": "code",
   "execution_count": 81,
   "metadata": {},
   "outputs": [
    {
     "data": {
      "text/html": [
       "<div>\n",
       "<style scoped>\n",
       "    .dataframe tbody tr th:only-of-type {\n",
       "        vertical-align: middle;\n",
       "    }\n",
       "\n",
       "    .dataframe tbody tr th {\n",
       "        vertical-align: top;\n",
       "    }\n",
       "\n",
       "    .dataframe thead th {\n",
       "        text-align: right;\n",
       "    }\n",
       "</style>\n",
       "<table border=\"1\" class=\"dataframe\">\n",
       "  <thead>\n",
       "    <tr style=\"text-align: right;\">\n",
       "      <th></th>\n",
       "      <th>publicationYear</th>\n",
       "      <th>anSQL</th>\n",
       "      <th>aSQL</th>\n",
       "      <th>anpercent</th>\n",
       "      <th>apercent</th>\n",
       "    </tr>\n",
       "  </thead>\n",
       "  <tbody>\n",
       "    <tr>\n",
       "      <th>0</th>\n",
       "      <td>1983</td>\n",
       "      <td>1</td>\n",
       "      <td>0</td>\n",
       "      <td>100.000000</td>\n",
       "      <td>0.000000</td>\n",
       "    </tr>\n",
       "    <tr>\n",
       "      <th>1</th>\n",
       "      <td>1987</td>\n",
       "      <td>0</td>\n",
       "      <td>1</td>\n",
       "      <td>0.000000</td>\n",
       "      <td>100.000000</td>\n",
       "    </tr>\n",
       "    <tr>\n",
       "      <th>2</th>\n",
       "      <td>1988</td>\n",
       "      <td>3</td>\n",
       "      <td>1</td>\n",
       "      <td>75.000000</td>\n",
       "      <td>25.000000</td>\n",
       "    </tr>\n",
       "    <tr>\n",
       "      <th>3</th>\n",
       "      <td>1989</td>\n",
       "      <td>2</td>\n",
       "      <td>0</td>\n",
       "      <td>100.000000</td>\n",
       "      <td>0.000000</td>\n",
       "    </tr>\n",
       "    <tr>\n",
       "      <th>4</th>\n",
       "      <td>1990</td>\n",
       "      <td>2</td>\n",
       "      <td>0</td>\n",
       "      <td>100.000000</td>\n",
       "      <td>0.000000</td>\n",
       "    </tr>\n",
       "    <tr>\n",
       "      <th>5</th>\n",
       "      <td>1991</td>\n",
       "      <td>3</td>\n",
       "      <td>0</td>\n",
       "      <td>100.000000</td>\n",
       "      <td>0.000000</td>\n",
       "    </tr>\n",
       "    <tr>\n",
       "      <th>6</th>\n",
       "      <td>1992</td>\n",
       "      <td>6</td>\n",
       "      <td>1</td>\n",
       "      <td>85.714286</td>\n",
       "      <td>14.285714</td>\n",
       "    </tr>\n",
       "    <tr>\n",
       "      <th>7</th>\n",
       "      <td>1993</td>\n",
       "      <td>5</td>\n",
       "      <td>0</td>\n",
       "      <td>100.000000</td>\n",
       "      <td>0.000000</td>\n",
       "    </tr>\n",
       "    <tr>\n",
       "      <th>8</th>\n",
       "      <td>1994</td>\n",
       "      <td>2</td>\n",
       "      <td>4</td>\n",
       "      <td>33.333333</td>\n",
       "      <td>66.666667</td>\n",
       "    </tr>\n",
       "    <tr>\n",
       "      <th>9</th>\n",
       "      <td>1995</td>\n",
       "      <td>9</td>\n",
       "      <td>5</td>\n",
       "      <td>64.285714</td>\n",
       "      <td>35.714286</td>\n",
       "    </tr>\n",
       "    <tr>\n",
       "      <th>10</th>\n",
       "      <td>1996</td>\n",
       "      <td>7</td>\n",
       "      <td>4</td>\n",
       "      <td>63.636364</td>\n",
       "      <td>36.363636</td>\n",
       "    </tr>\n",
       "    <tr>\n",
       "      <th>11</th>\n",
       "      <td>1997</td>\n",
       "      <td>3</td>\n",
       "      <td>1</td>\n",
       "      <td>75.000000</td>\n",
       "      <td>25.000000</td>\n",
       "    </tr>\n",
       "    <tr>\n",
       "      <th>12</th>\n",
       "      <td>1998</td>\n",
       "      <td>3</td>\n",
       "      <td>1</td>\n",
       "      <td>75.000000</td>\n",
       "      <td>25.000000</td>\n",
       "    </tr>\n",
       "    <tr>\n",
       "      <th>13</th>\n",
       "      <td>1999</td>\n",
       "      <td>9</td>\n",
       "      <td>2</td>\n",
       "      <td>81.818182</td>\n",
       "      <td>18.181818</td>\n",
       "    </tr>\n",
       "    <tr>\n",
       "      <th>14</th>\n",
       "      <td>2000</td>\n",
       "      <td>10</td>\n",
       "      <td>5</td>\n",
       "      <td>66.666667</td>\n",
       "      <td>33.333333</td>\n",
       "    </tr>\n",
       "    <tr>\n",
       "      <th>15</th>\n",
       "      <td>2001</td>\n",
       "      <td>7</td>\n",
       "      <td>0</td>\n",
       "      <td>100.000000</td>\n",
       "      <td>0.000000</td>\n",
       "    </tr>\n",
       "    <tr>\n",
       "      <th>16</th>\n",
       "      <td>2002</td>\n",
       "      <td>10</td>\n",
       "      <td>3</td>\n",
       "      <td>76.923077</td>\n",
       "      <td>23.076923</td>\n",
       "    </tr>\n",
       "    <tr>\n",
       "      <th>17</th>\n",
       "      <td>2003</td>\n",
       "      <td>14</td>\n",
       "      <td>6</td>\n",
       "      <td>70.000000</td>\n",
       "      <td>30.000000</td>\n",
       "    </tr>\n",
       "    <tr>\n",
       "      <th>18</th>\n",
       "      <td>2004</td>\n",
       "      <td>14</td>\n",
       "      <td>7</td>\n",
       "      <td>66.666667</td>\n",
       "      <td>33.333333</td>\n",
       "    </tr>\n",
       "    <tr>\n",
       "      <th>19</th>\n",
       "      <td>2005</td>\n",
       "      <td>12</td>\n",
       "      <td>8</td>\n",
       "      <td>60.000000</td>\n",
       "      <td>40.000000</td>\n",
       "    </tr>\n",
       "    <tr>\n",
       "      <th>20</th>\n",
       "      <td>2006</td>\n",
       "      <td>14</td>\n",
       "      <td>4</td>\n",
       "      <td>77.777778</td>\n",
       "      <td>22.222222</td>\n",
       "    </tr>\n",
       "    <tr>\n",
       "      <th>21</th>\n",
       "      <td>2007</td>\n",
       "      <td>15</td>\n",
       "      <td>11</td>\n",
       "      <td>57.692308</td>\n",
       "      <td>42.307692</td>\n",
       "    </tr>\n",
       "    <tr>\n",
       "      <th>22</th>\n",
       "      <td>2008</td>\n",
       "      <td>19</td>\n",
       "      <td>5</td>\n",
       "      <td>79.166667</td>\n",
       "      <td>20.833333</td>\n",
       "    </tr>\n",
       "    <tr>\n",
       "      <th>23</th>\n",
       "      <td>2009</td>\n",
       "      <td>20</td>\n",
       "      <td>10</td>\n",
       "      <td>66.666667</td>\n",
       "      <td>33.333333</td>\n",
       "    </tr>\n",
       "    <tr>\n",
       "      <th>24</th>\n",
       "      <td>2010</td>\n",
       "      <td>26</td>\n",
       "      <td>8</td>\n",
       "      <td>76.470588</td>\n",
       "      <td>23.529412</td>\n",
       "    </tr>\n",
       "    <tr>\n",
       "      <th>25</th>\n",
       "      <td>2011</td>\n",
       "      <td>25</td>\n",
       "      <td>17</td>\n",
       "      <td>59.523810</td>\n",
       "      <td>40.476190</td>\n",
       "    </tr>\n",
       "    <tr>\n",
       "      <th>26</th>\n",
       "      <td>2012</td>\n",
       "      <td>24</td>\n",
       "      <td>14</td>\n",
       "      <td>63.157895</td>\n",
       "      <td>36.842105</td>\n",
       "    </tr>\n",
       "    <tr>\n",
       "      <th>27</th>\n",
       "      <td>2013</td>\n",
       "      <td>29</td>\n",
       "      <td>15</td>\n",
       "      <td>65.909091</td>\n",
       "      <td>34.090909</td>\n",
       "    </tr>\n",
       "    <tr>\n",
       "      <th>28</th>\n",
       "      <td>2014</td>\n",
       "      <td>16</td>\n",
       "      <td>13</td>\n",
       "      <td>55.172414</td>\n",
       "      <td>44.827586</td>\n",
       "    </tr>\n",
       "    <tr>\n",
       "      <th>29</th>\n",
       "      <td>2015</td>\n",
       "      <td>23</td>\n",
       "      <td>15</td>\n",
       "      <td>60.526316</td>\n",
       "      <td>39.473684</td>\n",
       "    </tr>\n",
       "    <tr>\n",
       "      <th>30</th>\n",
       "      <td>2016</td>\n",
       "      <td>37</td>\n",
       "      <td>24</td>\n",
       "      <td>60.655738</td>\n",
       "      <td>39.344262</td>\n",
       "    </tr>\n",
       "    <tr>\n",
       "      <th>31</th>\n",
       "      <td>2017</td>\n",
       "      <td>34</td>\n",
       "      <td>17</td>\n",
       "      <td>66.666667</td>\n",
       "      <td>33.333333</td>\n",
       "    </tr>\n",
       "    <tr>\n",
       "      <th>32</th>\n",
       "      <td>2018</td>\n",
       "      <td>28</td>\n",
       "      <td>31</td>\n",
       "      <td>47.457627</td>\n",
       "      <td>52.542373</td>\n",
       "    </tr>\n",
       "    <tr>\n",
       "      <th>33</th>\n",
       "      <td>2019</td>\n",
       "      <td>43</td>\n",
       "      <td>21</td>\n",
       "      <td>67.187500</td>\n",
       "      <td>32.812500</td>\n",
       "    </tr>\n",
       "    <tr>\n",
       "      <th>34</th>\n",
       "      <td>2020</td>\n",
       "      <td>33</td>\n",
       "      <td>22</td>\n",
       "      <td>60.000000</td>\n",
       "      <td>40.000000</td>\n",
       "    </tr>\n",
       "    <tr>\n",
       "      <th>35</th>\n",
       "      <td>2021</td>\n",
       "      <td>20</td>\n",
       "      <td>24</td>\n",
       "      <td>45.454545</td>\n",
       "      <td>54.545455</td>\n",
       "    </tr>\n",
       "    <tr>\n",
       "      <th>36</th>\n",
       "      <td>2022</td>\n",
       "      <td>14</td>\n",
       "      <td>12</td>\n",
       "      <td>53.846154</td>\n",
       "      <td>46.153846</td>\n",
       "    </tr>\n",
       "    <tr>\n",
       "      <th>37</th>\n",
       "      <td>2023</td>\n",
       "      <td>2</td>\n",
       "      <td>2</td>\n",
       "      <td>50.000000</td>\n",
       "      <td>50.000000</td>\n",
       "    </tr>\n",
       "  </tbody>\n",
       "</table>\n",
       "</div>"
      ],
      "text/plain": [
       "    publicationYear  anSQL  aSQL   anpercent    apercent\n",
       "0              1983      1     0  100.000000    0.000000\n",
       "1              1987      0     1    0.000000  100.000000\n",
       "2              1988      3     1   75.000000   25.000000\n",
       "3              1989      2     0  100.000000    0.000000\n",
       "4              1990      2     0  100.000000    0.000000\n",
       "5              1991      3     0  100.000000    0.000000\n",
       "6              1992      6     1   85.714286   14.285714\n",
       "7              1993      5     0  100.000000    0.000000\n",
       "8              1994      2     4   33.333333   66.666667\n",
       "9              1995      9     5   64.285714   35.714286\n",
       "10             1996      7     4   63.636364   36.363636\n",
       "11             1997      3     1   75.000000   25.000000\n",
       "12             1998      3     1   75.000000   25.000000\n",
       "13             1999      9     2   81.818182   18.181818\n",
       "14             2000     10     5   66.666667   33.333333\n",
       "15             2001      7     0  100.000000    0.000000\n",
       "16             2002     10     3   76.923077   23.076923\n",
       "17             2003     14     6   70.000000   30.000000\n",
       "18             2004     14     7   66.666667   33.333333\n",
       "19             2005     12     8   60.000000   40.000000\n",
       "20             2006     14     4   77.777778   22.222222\n",
       "21             2007     15    11   57.692308   42.307692\n",
       "22             2008     19     5   79.166667   20.833333\n",
       "23             2009     20    10   66.666667   33.333333\n",
       "24             2010     26     8   76.470588   23.529412\n",
       "25             2011     25    17   59.523810   40.476190\n",
       "26             2012     24    14   63.157895   36.842105\n",
       "27             2013     29    15   65.909091   34.090909\n",
       "28             2014     16    13   55.172414   44.827586\n",
       "29             2015     23    15   60.526316   39.473684\n",
       "30             2016     37    24   60.655738   39.344262\n",
       "31             2017     34    17   66.666667   33.333333\n",
       "32             2018     28    31   47.457627   52.542373\n",
       "33             2019     43    21   67.187500   32.812500\n",
       "34             2020     33    22   60.000000   40.000000\n",
       "35             2021     20    24   45.454545   54.545455\n",
       "36             2022     14    12   53.846154   46.153846\n",
       "37             2023      2     2   50.000000   50.000000"
      ]
     },
     "execution_count": 81,
     "metadata": {},
     "output_type": "execute_result"
    }
   ],
   "source": [
    "new_df2 = new_df.groupby('publicationYear', as_index=False).agg({'anSQL': 'sum', 'aSQL':'sum'})\n",
    "new_df2['anpercent'] = (new_df2['anSQL']/(new_df2['anSQL']+new_df2['aSQL'])) * 100\n",
    "new_df2['apercent'] = (new_df2['aSQL']/(new_df2['anSQL']+new_df2['aSQL'])) * 100\n",
    "new_df2"
   ]
  },
  {
   "cell_type": "code",
   "execution_count": 105,
   "metadata": {},
   "outputs": [],
   "source": [
    "new_df.to_csv('finalJSTORData.csv')\n",
    "new_df2.to_csv('finalJSTORData_groupbyPubYear.csv')"
   ]
  },
  {
   "cell_type": "code",
   "execution_count": 86,
   "metadata": {},
   "outputs": [
    {
     "name": "stderr",
     "output_type": "stream",
     "text": [
      "/Users/emily/anaconda3/lib/python3.11/site-packages/seaborn/_oldcore.py:1498: FutureWarning: is_categorical_dtype is deprecated and will be removed in a future version. Use isinstance(dtype, CategoricalDtype) instead\n",
      "  if pd.api.types.is_categorical_dtype(vector):\n",
      "/Users/emily/anaconda3/lib/python3.11/site-packages/seaborn/_oldcore.py:1498: FutureWarning: is_categorical_dtype is deprecated and will be removed in a future version. Use isinstance(dtype, CategoricalDtype) instead\n",
      "  if pd.api.types.is_categorical_dtype(vector):\n",
      "/Users/emily/anaconda3/lib/python3.11/site-packages/seaborn/_oldcore.py:1498: FutureWarning: is_categorical_dtype is deprecated and will be removed in a future version. Use isinstance(dtype, CategoricalDtype) instead\n",
      "  if pd.api.types.is_categorical_dtype(vector):\n",
      "/Users/emily/anaconda3/lib/python3.11/site-packages/seaborn/_oldcore.py:1498: FutureWarning: is_categorical_dtype is deprecated and will be removed in a future version. Use isinstance(dtype, CategoricalDtype) instead\n",
      "  if pd.api.types.is_categorical_dtype(vector):\n"
     ]
    },
    {
     "data": {
      "image/png": "[encoded data removed]",
      "text/plain": [
       "<Figure size 1000x600 with 1 Axes>"
      ]
     },
     "metadata": {},
     "output_type": "display_data"
    }
   ],
   "source": [
    "sns.set(style=\"whitegrid\")\n",
    "\n",
    "plt.figure(figsize=(10, 6))\n",
    "scatterplot = sns.scatterplot(x=\"publicationYear\", y=\"anSQL\", data=new_df2, s=100)\n",
    "\n",
    "sns.scatterplot(x=\"publicationYear\", y=\"aSQL\", data=new_df2, s=100)\n",
    "\n",
    "sns.regplot(x=\"publicationYear\", y=\"anSQL\", data=new_df2, scatter=False)\n",
    "sns.regplot(x=\"publicationYear\", y=\"aSQL\", data=new_df2, scatter=False)\n",
    "\n",
    "scatterplot.set(xlabel=\"Year\", ylabel=\"Count\")\n",
    "plt.legend(title=\"Type\", loc=\"upper left\", labels=[\"anSQL\", \"aSQL\"])\n",
    "\n",
    "plt.show()"
   ]
  },
  {
   "cell_type": "code",
   "execution_count": 87,
   "metadata": {},
   "outputs": [
    {
     "name": "stderr",
     "output_type": "stream",
     "text": [
      "/Users/emily/anaconda3/lib/python3.11/site-packages/seaborn/_oldcore.py:1498: FutureWarning: is_categorical_dtype is deprecated and will be removed in a future version. Use isinstance(dtype, CategoricalDtype) instead\n",
      "  if pd.api.types.is_categorical_dtype(vector):\n",
      "/Users/emily/anaconda3/lib/python3.11/site-packages/seaborn/_oldcore.py:1498: FutureWarning: is_categorical_dtype is deprecated and will be removed in a future version. Use isinstance(dtype, CategoricalDtype) instead\n",
      "  if pd.api.types.is_categorical_dtype(vector):\n",
      "/Users/emily/anaconda3/lib/python3.11/site-packages/seaborn/_oldcore.py:1498: FutureWarning: is_categorical_dtype is deprecated and will be removed in a future version. Use isinstance(dtype, CategoricalDtype) instead\n",
      "  if pd.api.types.is_categorical_dtype(vector):\n",
      "/Users/emily/anaconda3/lib/python3.11/site-packages/seaborn/_oldcore.py:1498: FutureWarning: is_categorical_dtype is deprecated and will be removed in a future version. Use isinstance(dtype, CategoricalDtype) instead\n",
      "  if pd.api.types.is_categorical_dtype(vector):\n"
     ]
    },
    {
     "data": {
      "image/png": "[encoded data removed]",
      "text/plain": [
       "<Figure size 1000x600 with 1 Axes>"
      ]
     },
     "metadata": {},
     "output_type": "display_data"
    }
   ],
   "source": [
    "plt.figure(figsize=(10, 6))\n",
    "scatterplot = sns.scatterplot(x=\"publicationYear\", y=\"anpercent\", data=new_df2, s=100)\n",
    "\n",
    "sns.scatterplot(x=\"publicationYear\", y=\"apercent\", data=new_df2, s=100)\n",
    "\n",
    "sns.regplot(x=\"publicationYear\", y=\"anpercent\", data=new_df2, scatter=False)\n",
    "sns.regplot(x=\"publicationYear\", y=\"apercent\", data=new_df2, scatter=False)\n",
    "\n",
    "scatterplot.set(xlabel=\"Year\", ylabel=\"Percent\")\n",
    "plt.legend(title=\"Type\", loc=\"upper right\", labels=[\"anSQL\", \"aSQL\"])\n",
    "plt.ylim(1)\n",
    "\n",
    "\n",
    "plt.show()"
   ]
  },
  {
   "cell_type": "code",
   "execution_count": 92,
   "metadata": {},
   "outputs": [
    {
     "data": {
      "application/vnd.plotly.v1+json": {
       "config": {
        "plotlyServerURL": "https://plot.ly"
       },
       "data": [
        {
         "hovertemplate": "Type=anSQL<br>publicationYear=%{x}<br>Count=%{y}<extra></extra>",
         "legendgroup": "anSQL",
         "marker": {
          "color": "blue",
          "symbol": "circle"
         },
         "mode": "markers",
         "name": "anSQL",
         "orientation": "v",
         "showlegend": true,
         "type": "scatter",
         "x": [
          1983,
          1987,
          1988,
          1989,
          1990,
          1991,
          1992,
          1993,
          1994,
          1995,
          1996,
          1997,
          1998,
          1999,
          2000,
          2001,
          2002,
          2003,
          2004,
          2005,
          2006,
          2007,
          2008,
          2009,
          2010,
          2011,
          2012,
          2013,
          2014,
          2015,
          2016,
          2017,
          2018,
          2019,
          2020,
          2021,
          2022,
          2023
         ],
         "xaxis": "x",
         "y": [
          1,
          0,
          3,
          2,
          2,
          3,
          6,
          5,
          2,
          9,
          7,
          3,
          3,
          9,
          10,
          7,
          10,
          14,
          14,
          12,
          14,
          15,
          19,
          20,
          26,
          25,
          24,
          29,
          16,
          23,
          37,
          34,
          28,
          43,
          33,
          20,
          14,
          2
         ],
         "yaxis": "y"
        },
        {
         "hovertemplate": "Type=aSQL<br>publicationYear=%{x}<br>Count=%{y}<extra></extra>",
         "legendgroup": "aSQL",
         "marker": {
          "color": "orange",
          "symbol": "circle"
         },
         "mode": "markers",
         "name": "aSQL",
         "orientation": "v",
         "showlegend": true,
         "type": "scatter",
         "x": [
          1983,
          1987,
          1988,
          1989,
          1990,
          1991,
          1992,
          1993,
          1994,
          1995,
          1996,
          1997,
          1998,
          1999,
          2000,
          2001,
          2002,
          2003,
          2004,
          2005,
          2006,
          2007,
          2008,
          2009,
          2010,
          2011,
          2012,
          2013,
          2014,
          2015,
          2016,
          2017,
          2018,
          2019,
          2020,
          2021,
          2022,
          2023
         ],
         "xaxis": "x",
         "y": [
          0,
          1,
          1,
          0,
          0,
          0,
          1,
          0,
          4,
          5,
          4,
          1,
          1,
          2,
          5,
          0,
          3,
          6,
          7,
          8,
          4,
          11,
          5,
          10,
          8,
          17,
          14,
          15,
          13,
          15,
          24,
          17,
          31,
          21,
          22,
          24,
          12,
          2
         ],
         "yaxis": "y"
        }
       ],
       "layout": {
        "legend": {
         "title": {
          "text": "Type"
         },
         "tracegroupgap": 0
        },
        "margin": {
         "t": 60
        },
        "template": {
         "data": {
          "bar": [
           {
            "error_x": {
             "color": "#2a3f5f"
            },
            "error_y": {
             "color": "#2a3f5f"
            },
            "marker": {
             "line": {
              "color": "#E5ECF6",
              "width": 0.5
             },
             "pattern": {
              "fillmode": "overlay",
              "size": 10,
              "solidity": 0.2
             }
            },
            "type": "bar"
           }
          ],
          "barpolar": [
           {
            "marker": {
             "line": {
              "color": "#E5ECF6",
              "width": 0.5
             },
             "pattern": {
              "fillmode": "overlay",
              "size": 10,
              "solidity": 0.2
             }
            },
            "type": "barpolar"
           }
          ],
          "carpet": [
           {
            "aaxis": {
             "endlinecolor": "#2a3f5f",
             "gridcolor": "white",
             "linecolor": "white",
             "minorgridcolor": "white",
             "startlinecolor": "#2a3f5f"
            },
            "baxis": {
             "endlinecolor": "#2a3f5f",
             "gridcolor": "white",
             "linecolor": "white",
             "minorgridcolor": "white",
             "startlinecolor": "#2a3f5f"
            },
            "type": "carpet"
           }
          ],
          "choropleth": [
           {
            "colorbar": {
             "outlinewidth": 0,
             "ticks": ""
            },
            "type": "choropleth"
           }
          ],
          "contour": [
           {
            "colorbar": {
             "outlinewidth": 0,
             "ticks": ""
            },
            "colorscale": [
             [
              0,
              "#0d0887"
             ],
             [
              0.1111111111111111,
              "#46039f"
             ],
             [
              0.2222222222222222,
              "#7201a8"
             ],
             [
              0.3333333333333333,
              "#9c179e"
             ],
             [
              0.4444444444444444,
              "#bd3786"
             ],
             [
              0.5555555555555556,
              "#d8576b"
             ],
             [
              0.6666666666666666,
              "#ed7953"
             ],
             [
              0.7777777777777778,
              "#fb9f3a"
             ],
             [
              0.8888888888888888,
              "#fdca26"
             ],
             [
              1,
              "#f0f921"
             ]
            ],
            "type": "contour"
           }
          ],
          "contourcarpet": [
           {
            "colorbar": {
             "outlinewidth": 0,
             "ticks": ""
            },
            "type": "contourcarpet"
           }
          ],
          "heatmap": [
           {
            "colorbar": {
             "outlinewidth": 0,
             "ticks": ""
            },
            "colorscale": [
             [
              0,
              "#0d0887"
             ],
             [
              0.1111111111111111,
              "#46039f"
             ],
             [
              0.2222222222222222,
              "#7201a8"
             ],
             [
              0.3333333333333333,
              "#9c179e"
             ],
             [
              0.4444444444444444,
              "#bd3786"
             ],
             [
              0.5555555555555556,
              "#d8576b"
             ],
             [
              0.6666666666666666,
              "#ed7953"
             ],
             [
              0.7777777777777778,
              "#fb9f3a"
             ],
             [
              0.8888888888888888,
              "#fdca26"
             ],
             [
              1,
              "#f0f921"
             ]
            ],
            "type": "heatmap"
           }
          ],
          "heatmapgl": [
           {
            "colorbar": {
             "outlinewidth": 0,
             "ticks": ""
            },
            "colorscale": [
             [
              0,
              "#0d0887"
             ],
             [
              0.1111111111111111,
              "#46039f"
             ],
             [
              0.2222222222222222,
              "#7201a8"
             ],
             [
              0.3333333333333333,
              "#9c179e"
             ],
             [
              0.4444444444444444,
              "#bd3786"
             ],
             [
              0.5555555555555556,
              "#d8576b"
             ],
             [
              0.6666666666666666,
              "#ed7953"
             ],
             [
              0.7777777777777778,
              "#fb9f3a"
             ],
             [
              0.8888888888888888,
              "#fdca26"
             ],
             [
              1,
              "#f0f921"
             ]
            ],
            "type": "heatmapgl"
           }
          ],
          "histogram": [
           {
            "marker": {
             "pattern": {
              "fillmode": "overlay",
              "size": 10,
              "solidity": 0.2
             }
            },
            "type": "histogram"
           }
          ],
          "histogram2d": [
           {
            "colorbar": {
             "outlinewidth": 0,
             "ticks": ""
            },
            "colorscale": [
             [
              0,
              "#0d0887"
             ],
             [
              0.1111111111111111,
              "#46039f"
             ],
             [
              0.2222222222222222,
              "#7201a8"
             ],
             [
              0.3333333333333333,
              "#9c179e"
             ],
             [
              0.4444444444444444,
              "#bd3786"
             ],
             [
              0.5555555555555556,
              "#d8576b"
             ],
             [
              0.6666666666666666,
              "#ed7953"
             ],
             [
              0.7777777777777778,
              "#fb9f3a"
             ],
             [
              0.8888888888888888,
              "#fdca26"
             ],
             [
              1,
              "#f0f921"
             ]
            ],
            "type": "histogram2d"
           }
          ],
          "histogram2dcontour": [
           {
            "colorbar": {
             "outlinewidth": 0,
             "ticks": ""
            },
            "colorscale": [
             [
              0,
              "#0d0887"
             ],
             [
              0.1111111111111111,
              "#46039f"
             ],
             [
              0.2222222222222222,
              "#7201a8"
             ],
             [
              0.3333333333333333,
              "#9c179e"
             ],
             [
              0.4444444444444444,
              "#bd3786"
             ],
             [
              0.5555555555555556,
              "#d8576b"
             ],
             [
              0.6666666666666666,
              "#ed7953"
             ],
             [
              0.7777777777777778,
              "#fb9f3a"
             ],
             [
              0.8888888888888888,
              "#fdca26"
             ],
             [
              1,
              "#f0f921"
             ]
            ],
            "type": "histogram2dcontour"
           }
          ],
          "mesh3d": [
           {
            "colorbar": {
             "outlinewidth": 0,
             "ticks": ""
            },
            "type": "mesh3d"
           }
          ],
          "parcoords": [
           {
            "line": {
             "colorbar": {
              "outlinewidth": 0,
              "ticks": ""
             }
            },
            "type": "parcoords"
           }
          ],
          "pie": [
           {
            "automargin": true,
            "type": "pie"
           }
          ],
          "scatter": [
           {
            "fillpattern": {
             "fillmode": "overlay",
             "size": 10,
             "solidity": 0.2
            },
            "type": "scatter"
           }
          ],
          "scatter3d": [
           {
            "line": {
             "colorbar": {
              "outlinewidth": 0,
              "ticks": ""
             }
            },
            "marker": {
             "colorbar": {
              "outlinewidth": 0,
              "ticks": ""
             }
            },
            "type": "scatter3d"
           }
          ],
          "scattercarpet": [
           {
            "marker": {
             "colorbar": {
              "outlinewidth": 0,
              "ticks": ""
             }
            },
            "type": "scattercarpet"
           }
          ],
          "scattergeo": [
           {
            "marker": {
             "colorbar": {
              "outlinewidth": 0,
              "ticks": ""
             }
            },
            "type": "scattergeo"
           }
          ],
          "scattergl": [
           {
            "marker": {
             "colorbar": {
              "outlinewidth": 0,
              "ticks": ""
             }
            },
            "type": "scattergl"
           }
          ],
          "scattermapbox": [
           {
            "marker": {
             "colorbar": {
              "outlinewidth": 0,
              "ticks": ""
             }
            },
            "type": "scattermapbox"
           }
          ],
          "scatterpolar": [
           {
            "marker": {
             "colorbar": {
              "outlinewidth": 0,
              "ticks": ""
             }
            },
            "type": "scatterpolar"
           }
          ],
          "scatterpolargl": [
           {
            "marker": {
             "colorbar": {
              "outlinewidth": 0,
              "ticks": ""
             }
            },
            "type": "scatterpolargl"
           }
          ],
          "scatterternary": [
           {
            "marker": {
             "colorbar": {
              "outlinewidth": 0,
              "ticks": ""
             }
            },
            "type": "scatterternary"
           }
          ],
          "surface": [
           {
            "colorbar": {
             "outlinewidth": 0,
             "ticks": ""
            },
            "colorscale": [
             [
              0,
              "#0d0887"
             ],
             [
              0.1111111111111111,
              "#46039f"
             ],
             [
              0.2222222222222222,
              "#7201a8"
             ],
             [
              0.3333333333333333,
              "#9c179e"
             ],
             [
              0.4444444444444444,
              "#bd3786"
             ],
             [
              0.5555555555555556,
              "#d8576b"
             ],
             [
              0.6666666666666666,
              "#ed7953"
             ],
             [
              0.7777777777777778,
              "#fb9f3a"
             ],
             [
              0.8888888888888888,
              "#fdca26"
             ],
             [
              1,
              "#f0f921"
             ]
            ],
            "type": "surface"
           }
          ],
          "table": [
           {
            "cells": {
             "fill": {
              "color": "#EBF0F8"
             },
             "line": {
              "color": "white"
             }
            },
            "header": {
             "fill": {
              "color": "#C8D4E3"
             },
             "line": {
              "color": "white"
             }
            },
            "type": "table"
           }
          ]
         },
         "layout": {
          "annotationdefaults": {
           "arrowcolor": "#2a3f5f",
           "arrowhead": 0,
           "arrowwidth": 1
          },
          "autotypenumbers": "strict",
          "coloraxis": {
           "colorbar": {
            "outlinewidth": 0,
            "ticks": ""
           }
          },
          "colorscale": {
           "diverging": [
            [
             0,
             "#8e0152"
            ],
            [
             0.1,
             "#c51b7d"
            ],
            [
             0.2,
             "#de77ae"
            ],
            [
             0.3,
             "#f1b6da"
            ],
            [
             0.4,
             "#fde0ef"
            ],
            [
             0.5,
             "#f7f7f7"
            ],
            [
             0.6,
             "#e6f5d0"
            ],
            [
             0.7,
             "#b8e186"
            ],
            [
             0.8,
             "#7fbc41"
            ],
            [
             0.9,
             "#4d9221"
            ],
            [
             1,
             "#276419"
            ]
           ],
           "sequential": [
            [
             0,
             "#0d0887"
            ],
            [
             0.1111111111111111,
             "#46039f"
            ],
            [
             0.2222222222222222,
             "#7201a8"
            ],
            [
             0.3333333333333333,
             "#9c179e"
            ],
            [
             0.4444444444444444,
             "#bd3786"
            ],
            [
             0.5555555555555556,
             "#d8576b"
            ],
            [
             0.6666666666666666,
             "#ed7953"
            ],
            [
             0.7777777777777778,
             "#fb9f3a"
            ],
            [
             0.8888888888888888,
             "#fdca26"
            ],
            [
             1,
             "#f0f921"
            ]
           ],
           "sequentialminus": [
            [
             0,
             "#0d0887"
            ],
            [
             0.1111111111111111,
             "#46039f"
            ],
            [
             0.2222222222222222,
             "#7201a8"
            ],
            [
             0.3333333333333333,
             "#9c179e"
            ],
            [
             0.4444444444444444,
             "#bd3786"
            ],
            [
             0.5555555555555556,
             "#d8576b"
            ],
            [
             0.6666666666666666,
             "#ed7953"
            ],
            [
             0.7777777777777778,
             "#fb9f3a"
            ],
            [
             0.8888888888888888,
             "#fdca26"
            ],
            [
             1,
             "#f0f921"
            ]
           ]
          },
          "colorway": [
           "#636efa",
           "#EF553B",
           "#00cc96",
           "#ab63fa",
           "#FFA15A",
           "#19d3f3",
           "#FF6692",
           "#B6E880",
           "#FF97FF",
           "#FECB52"
          ],
          "font": {
           "color": "#2a3f5f"
          },
          "geo": {
           "bgcolor": "white",
           "lakecolor": "white",
           "landcolor": "#E5ECF6",
           "showlakes": true,
           "showland": true,
           "subunitcolor": "white"
          },
          "hoverlabel": {
           "align": "left"
          },
          "hovermode": "closest",
          "mapbox": {
           "style": "light"
          },
          "paper_bgcolor": "white",
          "plot_bgcolor": "#E5ECF6",
          "polar": {
           "angularaxis": {
            "gridcolor": "white",
            "linecolor": "white",
            "ticks": ""
           },
           "bgcolor": "#E5ECF6",
           "radialaxis": {
            "gridcolor": "white",
            "linecolor": "white",
            "ticks": ""
           }
          },
          "scene": {
           "xaxis": {
            "backgroundcolor": "#E5ECF6",
            "gridcolor": "white",
            "gridwidth": 2,
            "linecolor": "white",
            "showbackground": true,
            "ticks": "",
            "zerolinecolor": "white"
           },
           "yaxis": {
            "backgroundcolor": "#E5ECF6",
            "gridcolor": "white",
            "gridwidth": 2,
            "linecolor": "white",
            "showbackground": true,
            "ticks": "",
            "zerolinecolor": "white"
           },
           "zaxis": {
            "backgroundcolor": "#E5ECF6",
            "gridcolor": "white",
            "gridwidth": 2,
            "linecolor": "white",
            "showbackground": true,
            "ticks": "",
            "zerolinecolor": "white"
           }
          },
          "shapedefaults": {
           "line": {
            "color": "#2a3f5f"
           }
          },
          "ternary": {
           "aaxis": {
            "gridcolor": "white",
            "linecolor": "white",
            "ticks": ""
           },
           "baxis": {
            "gridcolor": "white",
            "linecolor": "white",
            "ticks": ""
           },
           "bgcolor": "#E5ECF6",
           "caxis": {
            "gridcolor": "white",
            "linecolor": "white",
            "ticks": ""
           }
          },
          "title": {
           "x": 0.05
          },
          "xaxis": {
           "automargin": true,
           "gridcolor": "white",
           "linecolor": "white",
           "ticks": "",
           "title": {
            "standoff": 15
           },
           "zerolinecolor": "white",
           "zerolinewidth": 2
          },
          "yaxis": {
           "automargin": true,
           "gridcolor": "white",
           "linecolor": "white",
           "ticks": "",
           "title": {
            "standoff": 15
           },
           "zerolinecolor": "white",
           "zerolinewidth": 2
          }
         }
        },
        "xaxis": {
         "anchor": "y",
         "domain": [
          0,
          1
         ],
         "title": {
          "text": "publicationYear"
         }
        },
        "yaxis": {
         "anchor": "x",
         "domain": [
          0,
          1
         ],
         "title": {
          "text": "Count"
         }
        }
       }
      }
     },
     "metadata": {},
     "output_type": "display_data"
    }
   ],
   "source": [
    "import plotly.express as px\n",
    "\n",
    "# Assuming your DataFrame is named df\n",
    "fig = px.scatter(new_df2, x=\"publicationYear\", y=[\"anSQL\", \"aSQL\"], color_discrete_sequence=[\"blue\", \"orange\"],\n",
    "                 labels={\"value\": \"Count\", \"variable\": \"Type\"})\n",
    "\n",
    "#  Adding regression lines\n",
    "# fig.add_trace(px.line(new_df2, x=\"publicationYear\", y=\"anSQL\").data[0])\n",
    "# fig.add_trace(px.line(new_df2, x=\"publicationYear\", y=\"aSQL\").data[0])\n",
    "\n",
    "# Show the plot\n",
    "fig.show()"
   ]
  },
  {
   "cell_type": "code",
   "execution_count": 93,
   "metadata": {},
   "outputs": [
    {
     "name": "stdout",
     "output_type": "stream",
     "text": [
      "Collecting package metadata (current_repodata.json): done\n",
      "Solving environment: done\n",
      "\n",
      "\n",
      "==> WARNING: A newer version of conda exists. <==\n",
      "  current version: 23.7.4\n",
      "  latest version: 23.11.0\n",
      "\n",
      "Please update conda by running\n",
      "\n",
      "    $ conda update -n base -c defaults conda\n",
      "\n",
      "Or to minimize the number of packages updated during conda update use\n",
      "\n",
      "     conda install conda=23.11.0\n",
      "\n",
      "\n",
      "\n",
      "## Package Plan ##\n",
      "\n",
      "  environment location: /Users/emily/anaconda3\n",
      "\n",
      "  added / updated specs:\n",
      "    - plotnine\n",
      "\n",
      "\n",
      "The following packages will be downloaded:\n",
      "\n",
      "    package                    |            build\n",
      "    ---------------------------|-----------------\n",
      "    mizani-0.9.2               |  py311hecd8cb5_0         191 KB\n",
      "    plotnine-0.12.1            |  py311hecd8cb5_0         5.3 MB\n",
      "    ------------------------------------------------------------\n",
      "                                           Total:         5.5 MB\n",
      "\n",
      "The following NEW packages will be INSTALLED:\n",
      "\n",
      "  mizani             pkgs/main/osx-64::mizani-0.9.2-py311hecd8cb5_0 \n",
      "  plotnine           pkgs/main/osx-64::plotnine-0.12.1-py311hecd8cb5_0 \n",
      "\n",
      "\n",
      "\n",
      "Downloading and Extracting Packages\n",
      "plotnine-0.12.1      | 5.3 MB    |                                       |   0% \n",
      "plotnine-0.12.1      | 5.3 MB    | 1                                     |   0% \u001b[A\n",
      "plotnine-0.12.1      | 5.3 MB    | #########2                            |  25% \u001b[A\n",
      "mizani-0.9.2         | 191 KB    | ##################################### | 100% \u001b[A\n",
      "                                                                                \u001b[A\n",
      "                                                                                \u001b[A\n",
      "Preparing transaction: done\n",
      "Verifying transaction: done\n",
      "Executing transaction: done\n",
      "\n",
      "Note: you may need to restart the kernel to use updated packages.\n"
     ]
    }
   ],
   "source": [
    "%conda install plotnine"
   ]
  },
  {
   "cell_type": "code",
   "execution_count": 104,
   "metadata": {},
   "outputs": [
    {
     "data": {
      "image/png": "[encoded data removed]",
      "text/plain": [
       "<Figure size 640x480 with 1 Axes>"
      ]
     },
     "metadata": {
      "image/png": {
       "height": 480,
       "width": 640
      }
     },
     "output_type": "display_data"
    },
    {
     "name": "stdout",
     "output_type": "stream",
     "text": [
      "\n"
     ]
    }
   ],
   "source": [
    "from plotnine import ggplot, aes, geom_point, geom_smooth, labs\n",
    "\n",
    "plot = (ggplot(new_df2, aes(x='publicationYear'))\n",
    "        + geom_point(aes(y='anSQL'), size=3, fill='blue', color='blue', alpha=0.7)\n",
    "        + geom_point(aes(y='aSQL'), shape='s', size=3, fill='orange', color='orange', alpha=0.7)\n",
    "        + geom_smooth(aes(y='anSQL'), method='lm', se=False, color='blue')\n",
    "        + geom_smooth(aes(y='aSQL'), method='lm', se=False, color='orange')\n",
    "        + labs(x='Year', y='Count', color='Type'))\n",
    "\n",
    "# Show the plot\n",
    "print(plot)"
   ]
  },
  {
   "cell_type": "code",
   "execution_count": null,
   "metadata": {},
   "outputs": [],
   "source": []
  }
 ],
 "metadata": {
  "kernelspec": {
   "display_name": "base",
   "language": "python",
   "name": "python3"
  },
  "language_info": {
   "codemirror_mode": {
    "name": "ipython",
    "version": 3
   },
   "file_extension": ".py",
   "mimetype": "text/x-python",
   "name": "python",
   "nbconvert_exporter": "python",
   "pygments_lexer": "ipython3",
   "version": "3.11.5"
  }
 },
 "nbformat": 4,
 "nbformat_minor": 2
}
